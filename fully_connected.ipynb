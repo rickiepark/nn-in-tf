{
 "cells": [
  {
   "cell_type": "markdown",
   "metadata": {},
   "source": [
    "# 완전 연결 신경망"
   ]
  },
  {
   "cell_type": "markdown",
   "metadata": {},
   "source": [
    "이 노트북을 주피터 노트북 뷰어(nbviewer.jupyter.org)로 보거나 구글 코랩(colab.research.google.com)에서 실행할 수 있습니다.\n",
    "\n",
    "<table class=\"tfo-notebook-buttons\" align=\"left\">\n",
    "  <td>\n",
    "    <a target=\"_blank\" href=\"https://nbviewer.jupyter.org/github/rickiepark/nn-in-tf2/blob/master/fully_connected.ipynb\"><img src=\"https://jupyter.org/assets/main-logo.svg\" width=\"28\" />주피터 노트북 뷰어로 보기</a>\n",
    "  </td>\n",
    "  <td>\n",
    "    <a target=\"_blank\" href=\"https://colab.research.google.com/github/rickiepark/nn-in-tf2/blob/master/fully_connected.ipynb\"><img src=\"https://www.tensorflow.org/images/colab_logo_32px.png\" />구글 코랩(Colab)에서 실행하기</a>\n",
    "  </td>\n",
    "</table>"
   ]
  },
  {
   "cell_type": "markdown",
   "metadata": {},
   "source": [
    "구글 코랩에는 텐서플로 1.x 버전이 설치되어 있습니다. 다음 셀의 주석을 제거하고 텐서플로 2.0.0-rc0 버전을 설치하세요."
   ]
  },
  {
   "cell_type": "code",
   "execution_count": 1,
   "metadata": {},
   "outputs": [],
   "source": [
    "#!pip install tensorflow-gpu==2.0.0-rc0"
   ]
  },
  {
   "cell_type": "markdown",
   "metadata": {},
   "source": [
    "## 보스턴 주택 데이터셋 적재"
   ]
  },
  {
   "cell_type": "markdown",
   "metadata": {},
   "source": [
    "보스턴 주택 데이터셋을 사용하여 신경망을 훈련하겠습니다. 이 데이터셋은 1970년대 보스턴 인근 지역의 주택에 관한 정보를 기록한 것입니다. 주택에 관한 정보를 바탕으로 주택의 가격을 예측하는 회귀(Regression) 문제입니다.\n",
    "\n",
    "텐서플로에서 직접 이 데이터를 다운로드할 수 있습니다. 먼저 텐서플로의 케라스 모듈을 임포트합니다."
   ]
  },
  {
   "cell_type": "code",
   "execution_count": 2,
   "metadata": {},
   "outputs": [],
   "source": [
    "from tensorflow import keras"
   ]
  },
  {
   "cell_type": "markdown",
   "metadata": {},
   "source": [
    "`datasets.boston_housing.load_data()` 함수는 모델 훈련에 사용할 데이터와 테스트에 사용할 데이터를 나누어 넘파이 배열로 전달합니다. 이 데이터를 각각 훈련 세트, 테스트 세트라고 부르겠습니다.\n",
    "\n",
    "`load_data()` 함수는 기본적으로 전체 데이터에서 20%를 테스트 세트로 떼어내어 반환합니다. y_train과 y_test는 맞추어야 할 주택 가격 데이터입니다. 이를 타깃 데이터라고 부릅니다."
   ]
  },
  {
   "cell_type": "code",
   "execution_count": 104,
   "metadata": {},
   "outputs": [],
   "source": [
    "(x_train, y_train), (x_test, y_test) = keras.datasets.boston_housing.load_data()"
   ]
  },
  {
   "cell_type": "markdown",
   "metadata": {},
   "source": [
    "사용할 데이터의 크기를 확인해 보겠습니다. 넘파이 배열의 shape 속성에서 훈련 세트의 크기를 확인할 수 있습니다. "
   ]
  },
  {
   "cell_type": "code",
   "execution_count": 105,
   "metadata": {},
   "outputs": [
    {
     "name": "stdout",
     "output_type": "stream",
     "text": [
      "(404, 13) (404,)\n"
     ]
    }
   ],
   "source": [
    "print(x_train.shape, y_train.shape)"
   ]
  },
  {
   "cell_type": "markdown",
   "metadata": {},
   "source": [
    "`x_train`은 404개의 샘플이 있고 각 샘플은 13개의 특성으로 이루어져 있습니다. 즉 404개의 행이 있고 13개의 열이 있는 2차원 배열입니다. 이를 2차원 행렬로 생각하면 편리합니다.\n",
    "\n",
    "`y_train`은 404개의 주택 가격을 가진 1차원 배열로 1,000 달러 단위의 값입니다."
   ]
  },
  {
   "cell_type": "markdown",
   "metadata": {},
   "source": [
    "`x_test`와 `y_test`의 크기도 확인해 보겠습니다."
   ]
  },
  {
   "cell_type": "code",
   "execution_count": 106,
   "metadata": {},
   "outputs": [
    {
     "name": "stdout",
     "output_type": "stream",
     "text": [
      "(102, 13) (102,)\n"
     ]
    }
   ],
   "source": [
    "print(x_test.shape, y_test.shape)"
   ]
  },
  {
   "cell_type": "markdown",
   "metadata": {},
   "source": [
    "특성의 개수는 13개로 동일합니다. 테스트 세트는 102개의 훈련 샘플이 포함되어 있습니다."
   ]
  },
  {
   "cell_type": "markdown",
   "metadata": {},
   "source": [
    "## 데이터 전처리"
   ]
  },
  {
   "cell_type": "markdown",
   "metadata": {},
   "source": [
    "신경망은 입력 특성이 비슷한 스케일을 가져야 잘 작동합니다. 보스턴 주택 데이터의 값의 범위를 상자 수염 그래프로 확인해 보겠습니다.\n",
    "\n",
    "그래프를 그리기 위해 맷플롯립 패키지를 임포트합니다."
   ]
  },
  {
   "cell_type": "code",
   "execution_count": 118,
   "metadata": {},
   "outputs": [],
   "source": [
    "import matplotlib.pyplot as plt"
   ]
  },
  {
   "cell_type": "markdown",
   "metadata": {},
   "source": [
    "`boxplot()` 함수로 상자 수염 그래프를 그립니다."
   ]
  },
  {
   "cell_type": "code",
   "execution_count": 120,
   "metadata": {
    "scrolled": false
   },
   "outputs": [
    {
     "data": {
      "image/png": "[encoded data removed]",
      "text/plain": [
       "<Figure size 432x288 with 1 Axes>"
      ]
     },
     "metadata": {
      "needs_background": "light"
     },
     "output_type": "display_data"
    }
   ],
   "source": [
    "plt.boxplot(x_train)\n",
    "plt.show()"
   ]
  },
  {
   "cell_type": "markdown",
   "metadata": {},
   "source": [
    "그래프에서 볼 수 있듯이 10번째와 12번째 특성은 값의 범위가 매우 큽니다. 이렇게 값의 범위가 크게 다르면 모델이 잘 훈련되기 어렵습니다.\n",
    "\n",
    "특성 값을 맞추는 대표적인 방법은 표준화입니다. 표준화는 특성별로 평균을 0, 분산을 1로 맞춥니다. 표준화를 하려면 훈련 세트에서 특성별로 평균과 표준 편차를 구해야 합니다.\n",
    "\n",
    "넘파이 배열 객체의 `mean()`, `std()` 메서드를 사용하면 평균과 표준 편차를 쉽게 구할 수 있습니다. `axis=0`으로 지정하면 특성(열)을 따라 값을 계산합니다."
   ]
  },
  {
   "cell_type": "code",
   "execution_count": 121,
   "metadata": {},
   "outputs": [],
   "source": [
    "mean = x_train.mean(axis=0)\n",
    "std = x_train.std(axis=0)\n",
    "\n",
    "x_train_scaled = (x_train - mean) / std"
   ]
  },
  {
   "cell_type": "markdown",
   "metadata": {},
   "source": [
    "변환한 훈련 세트를 사용하여 모델을 훈련할 것입니다. 훈련된 모델을 테스트 세트로 평가해야 하기 때문에 테스트 세트의 특성도 동일하게 표준화해야 합니다.\n",
    "\n",
    "여기에서 주의할 점은 테스트 세트의 평균과 표준 편차를 구해서는 안된다는 것입니다. 테스트 세트가 훈련 세트와 다른 비율로 변환된다면 훈련 세트로 훈련한 모델이 쓸모 없게 되기 때문입니다.\n",
    "\n",
    "꼭 훈련 세트의 값으로 테스트 세트를 변환하세요."
   ]
  },
  {
   "cell_type": "code",
   "execution_count": 122,
   "metadata": {},
   "outputs": [],
   "source": [
    "x_test_scaled = (x_test - mean) / std"
   ]
  },
  {
   "cell_type": "markdown",
   "metadata": {},
   "source": []
  },
  {
   "cell_type": "code",
   "execution_count": 108,
   "metadata": {},
   "outputs": [],
   "source": [
    "model = keras.Sequential()"
   ]
  },
  {
   "cell_type": "code",
   "execution_count": 109,
   "metadata": {},
   "outputs": [],
   "source": [
    "model.add(keras.layers.Dense(64, activation='sigmoid', input_shape=(13,)))\n",
    "model.add(keras.layers.Dense(1))"
   ]
  },
  {
   "cell_type": "code",
   "execution_count": 110,
   "metadata": {},
   "outputs": [],
   "source": [
    "model.compile(loss='mae', \n",
    "              optimizer=\"adam\")"
   ]
  },
  {
   "cell_type": "code",
   "execution_count": 111,
   "metadata": {},
   "outputs": [
    {
     "name": "stdout",
     "output_type": "stream",
     "text": [
      "Train on 404 samples\n",
      "Epoch 1/100\n",
      "404/404 [==============================] - 0s 505us/sample - loss: 22.9372\n",
      "Epoch 2/100\n",
      "404/404 [==============================] - 0s 45us/sample - loss: 22.4802\n",
      "Epoch 3/100\n",
      "404/404 [==============================] - 0s 39us/sample - loss: 22.0243\n",
      "Epoch 4/100\n",
      "404/404 [==============================] - 0s 42us/sample - loss: 21.5685\n",
      "Epoch 5/100\n",
      "404/404 [==============================] - 0s 40us/sample - loss: 21.1123\n",
      "Epoch 6/100\n",
      "404/404 [==============================] - 0s 40us/sample - loss: 20.6551\n",
      "Epoch 7/100\n",
      "404/404 [==============================] - 0s 40us/sample - loss: 20.1954\n",
      "Epoch 8/100\n",
      "404/404 [==============================] - 0s 40us/sample - loss: 19.7326\n",
      "Epoch 9/100\n",
      "404/404 [==============================] - 0s 40us/sample - loss: 19.2649\n",
      "Epoch 10/100\n",
      "404/404 [==============================] - 0s 37us/sample - loss: 18.7941\n",
      "Epoch 11/100\n",
      "404/404 [==============================] - 0s 39us/sample - loss: 18.3170\n",
      "Epoch 12/100\n",
      "404/404 [==============================] - 0s 39us/sample - loss: 17.8340\n",
      "Epoch 13/100\n",
      "404/404 [==============================] - 0s 41us/sample - loss: 17.3455\n",
      "Epoch 14/100\n",
      "404/404 [==============================] - 0s 44us/sample - loss: 16.8463\n",
      "Epoch 15/100\n",
      "404/404 [==============================] - 0s 41us/sample - loss: 16.3463\n",
      "Epoch 16/100\n",
      "404/404 [==============================] - 0s 42us/sample - loss: 15.8411\n",
      "Epoch 17/100\n",
      "404/404 [==============================] - 0s 42us/sample - loss: 15.3284\n",
      "Epoch 18/100\n",
      "404/404 [==============================] - 0s 40us/sample - loss: 14.8101\n",
      "Epoch 19/100\n",
      "404/404 [==============================] - 0s 44us/sample - loss: 14.2808\n",
      "Epoch 20/100\n",
      "404/404 [==============================] - 0s 44us/sample - loss: 13.7489\n",
      "Epoch 21/100\n",
      "404/404 [==============================] - 0s 41us/sample - loss: 13.2054\n",
      "Epoch 22/100\n",
      "404/404 [==============================] - 0s 41us/sample - loss: 12.6564\n",
      "Epoch 23/100\n",
      "404/404 [==============================] - 0s 41us/sample - loss: 12.1024\n",
      "Epoch 24/100\n",
      "404/404 [==============================] - 0s 40us/sample - loss: 11.5400\n",
      "Epoch 25/100\n",
      "404/404 [==============================] - 0s 41us/sample - loss: 10.9742\n",
      "Epoch 26/100\n",
      "404/404 [==============================] - 0s 40us/sample - loss: 10.3999\n",
      "Epoch 27/100\n",
      "404/404 [==============================] - 0s 43us/sample - loss: 9.8264\n",
      "Epoch 28/100\n",
      "404/404 [==============================] - 0s 42us/sample - loss: 9.2497\n",
      "Epoch 29/100\n",
      "404/404 [==============================] - 0s 38us/sample - loss: 8.6828\n",
      "Epoch 30/100\n",
      "404/404 [==============================] - 0s 42us/sample - loss: 8.1139\n",
      "Epoch 31/100\n",
      "404/404 [==============================] - 0s 40us/sample - loss: 7.5653\n",
      "Epoch 32/100\n",
      "404/404 [==============================] - 0s 39us/sample - loss: 7.0551\n",
      "Epoch 33/100\n",
      "404/404 [==============================] - 0s 38us/sample - loss: 6.5511\n",
      "Epoch 34/100\n",
      "404/404 [==============================] - 0s 41us/sample - loss: 6.0803\n",
      "Epoch 35/100\n",
      "404/404 [==============================] - 0s 40us/sample - loss: 5.6493\n",
      "Epoch 36/100\n",
      "404/404 [==============================] - 0s 36us/sample - loss: 5.2890\n",
      "Epoch 37/100\n",
      "404/404 [==============================] - 0s 39us/sample - loss: 4.9637\n",
      "Epoch 38/100\n",
      "404/404 [==============================] - 0s 39us/sample - loss: 4.6872\n",
      "Epoch 39/100\n",
      "404/404 [==============================] - 0s 39us/sample - loss: 4.4572\n",
      "Epoch 40/100\n",
      "404/404 [==============================] - 0s 43us/sample - loss: 4.2777\n",
      "Epoch 41/100\n",
      "404/404 [==============================] - 0s 43us/sample - loss: 4.1267\n",
      "Epoch 42/100\n",
      "404/404 [==============================] - 0s 45us/sample - loss: 4.0119\n",
      "Epoch 43/100\n",
      "404/404 [==============================] - 0s 40us/sample - loss: 3.9142\n",
      "Epoch 44/100\n",
      "404/404 [==============================] - 0s 42us/sample - loss: 3.8475\n",
      "Epoch 45/100\n",
      "404/404 [==============================] - 0s 42us/sample - loss: 3.7883\n",
      "Epoch 46/100\n",
      "404/404 [==============================] - 0s 40us/sample - loss: 3.7421\n",
      "Epoch 47/100\n",
      "404/404 [==============================] - 0s 44us/sample - loss: 3.7059\n",
      "Epoch 48/100\n",
      "404/404 [==============================] - 0s 40us/sample - loss: 3.6724\n",
      "Epoch 49/100\n",
      "404/404 [==============================] - 0s 41us/sample - loss: 3.6492\n",
      "Epoch 50/100\n",
      "404/404 [==============================] - 0s 41us/sample - loss: 3.6265\n",
      "Epoch 51/100\n",
      "404/404 [==============================] - 0s 44us/sample - loss: 3.6108\n",
      "Epoch 52/100\n",
      "404/404 [==============================] - 0s 41us/sample - loss: 3.5927\n",
      "Epoch 53/100\n",
      "404/404 [==============================] - 0s 39us/sample - loss: 3.5749\n",
      "Epoch 54/100\n",
      "404/404 [==============================] - 0s 39us/sample - loss: 3.5585\n",
      "Epoch 55/100\n",
      "404/404 [==============================] - 0s 44us/sample - loss: 3.5492\n",
      "Epoch 56/100\n",
      "404/404 [==============================] - 0s 42us/sample - loss: 3.5333\n",
      "Epoch 57/100\n",
      "404/404 [==============================] - 0s 38us/sample - loss: 3.5196\n",
      "Epoch 58/100\n",
      "404/404 [==============================] - 0s 41us/sample - loss: 3.5094\n",
      "Epoch 59/100\n",
      "404/404 [==============================] - 0s 41us/sample - loss: 3.4994\n",
      "Epoch 60/100\n",
      "404/404 [==============================] - 0s 40us/sample - loss: 3.4889\n",
      "Epoch 61/100\n",
      "404/404 [==============================] - 0s 41us/sample - loss: 3.4825\n",
      "Epoch 62/100\n",
      "404/404 [==============================] - 0s 40us/sample - loss: 3.4761\n",
      "Epoch 63/100\n",
      "404/404 [==============================] - 0s 40us/sample - loss: 3.4713\n",
      "Epoch 64/100\n",
      "404/404 [==============================] - 0s 41us/sample - loss: 3.4635\n",
      "Epoch 65/100\n",
      "404/404 [==============================] - 0s 40us/sample - loss: 3.4595\n",
      "Epoch 66/100\n",
      "404/404 [==============================] - 0s 38us/sample - loss: 3.4525\n",
      "Epoch 67/100\n",
      "404/404 [==============================] - 0s 39us/sample - loss: 3.4466\n",
      "Epoch 68/100\n",
      "404/404 [==============================] - 0s 38us/sample - loss: 3.4410\n",
      "Epoch 69/100\n",
      "404/404 [==============================] - 0s 43us/sample - loss: 3.4364\n",
      "Epoch 70/100\n",
      "404/404 [==============================] - 0s 37us/sample - loss: 3.4297\n",
      "Epoch 71/100\n",
      "404/404 [==============================] - 0s 39us/sample - loss: 3.4243\n",
      "Epoch 72/100\n",
      "404/404 [==============================] - 0s 38us/sample - loss: 3.4191\n",
      "Epoch 73/100\n",
      "404/404 [==============================] - 0s 40us/sample - loss: 3.4139\n",
      "Epoch 74/100\n",
      "404/404 [==============================] - 0s 39us/sample - loss: 3.4086\n",
      "Epoch 75/100\n",
      "404/404 [==============================] - 0s 40us/sample - loss: 3.4037\n",
      "Epoch 76/100\n",
      "404/404 [==============================] - 0s 42us/sample - loss: 3.3995\n",
      "Epoch 77/100\n",
      "404/404 [==============================] - 0s 37us/sample - loss: 3.3949\n",
      "Epoch 78/100\n",
      "404/404 [==============================] - 0s 37us/sample - loss: 3.3893\n",
      "Epoch 79/100\n",
      "404/404 [==============================] - 0s 37us/sample - loss: 3.3881\n",
      "Epoch 80/100\n",
      "404/404 [==============================] - 0s 40us/sample - loss: 3.3769\n",
      "Epoch 81/100\n",
      "404/404 [==============================] - 0s 38us/sample - loss: 3.3757\n",
      "Epoch 82/100\n",
      "404/404 [==============================] - 0s 40us/sample - loss: 3.3717\n",
      "Epoch 83/100\n",
      "404/404 [==============================] - 0s 42us/sample - loss: 3.3661\n",
      "Epoch 84/100\n",
      "404/404 [==============================] - 0s 38us/sample - loss: 3.3641\n",
      "Epoch 85/100\n",
      "404/404 [==============================] - 0s 42us/sample - loss: 3.3588\n",
      "Epoch 86/100\n",
      "404/404 [==============================] - 0s 36us/sample - loss: 3.3545\n",
      "Epoch 87/100\n",
      "404/404 [==============================] - 0s 39us/sample - loss: 3.3515\n",
      "Epoch 88/100\n",
      "404/404 [==============================] - 0s 39us/sample - loss: 3.3484\n",
      "Epoch 89/100\n",
      "404/404 [==============================] - 0s 41us/sample - loss: 3.3436\n",
      "Epoch 90/100\n",
      "404/404 [==============================] - 0s 42us/sample - loss: 3.3403\n",
      "Epoch 91/100\n",
      "404/404 [==============================] - 0s 44us/sample - loss: 3.3361\n",
      "Epoch 92/100\n",
      "404/404 [==============================] - 0s 37us/sample - loss: 3.3320\n",
      "Epoch 93/100\n",
      "404/404 [==============================] - 0s 45us/sample - loss: 3.3295\n",
      "Epoch 94/100\n",
      "404/404 [==============================] - 0s 37us/sample - loss: 3.3221\n",
      "Epoch 95/100\n"
     ]
    },
    {
     "name": "stdout",
     "output_type": "stream",
     "text": [
      "404/404 [==============================] - 0s 42us/sample - loss: 3.3233\n",
      "Epoch 96/100\n",
      "404/404 [==============================] - 0s 41us/sample - loss: 3.3137\n",
      "Epoch 97/100\n",
      "404/404 [==============================] - 0s 41us/sample - loss: 3.3113\n",
      "Epoch 98/100\n",
      "404/404 [==============================] - 0s 39us/sample - loss: 3.3087\n",
      "Epoch 99/100\n",
      "404/404 [==============================] - 0s 39us/sample - loss: 3.3027\n",
      "Epoch 100/100\n",
      "404/404 [==============================] - 0s 43us/sample - loss: 3.3026\n"
     ]
    }
   ],
   "source": [
    "history = model.fit(x_train_scaled, y_train, epochs=100)"
   ]
  },
  {
   "cell_type": "code",
   "execution_count": 112,
   "metadata": {
    "scrolled": false
   },
   "outputs": [
    {
     "data": {
      "text/plain": [
       "[<matplotlib.lines.Line2D at 0x7f105c155550>]"
      ]
     },
     "execution_count": 112,
     "metadata": {},
     "output_type": "execute_result"
    },
    {
     "data": {
      "image/png": "[encoded data removed]",
      "text/plain": [
       "<Figure size 432x288 with 1 Axes>"
      ]
     },
     "metadata": {
      "needs_background": "light"
     },
     "output_type": "display_data"
    }
   ],
   "source": [
    "plt.plot(history.history['loss'])"
   ]
  },
  {
   "cell_type": "code",
   "execution_count": 113,
   "metadata": {},
   "outputs": [
    {
     "data": {
      "text/plain": [
       "3.3856504103716683"
      ]
     },
     "execution_count": 113,
     "metadata": {},
     "output_type": "execute_result"
    }
   ],
   "source": [
    "model.evaluate(x_test_scaled, y_test, verbose=0)"
   ]
  },
  {
   "cell_type": "code",
   "execution_count": 116,
   "metadata": {},
   "outputs": [
    {
     "data": {
      "text/plain": [
       "array([[10.129075],\n",
       "       [20.162893],\n",
       "       [21.138596],\n",
       "       [27.941038],\n",
       "       [24.1763  ]], dtype=float32)"
      ]
     },
     "execution_count": 116,
     "metadata": {},
     "output_type": "execute_result"
    }
   ],
   "source": [
    "model.predict(x_test_scaled[0:5])"
   ]
  },
  {
   "cell_type": "code",
   "execution_count": 117,
   "metadata": {},
   "outputs": [
    {
     "name": "stdout",
     "output_type": "stream",
     "text": [
      "[ 7.2 18.8 19.  27.  22.2]\n"
     ]
    }
   ],
   "source": [
    "print(y_test[0:5])"
   ]
  },
  {
   "cell_type": "code",
   "execution_count": null,
   "metadata": {},
   "outputs": [],
   "source": []
  }
 ],
 "metadata": {
  "kernelspec": {
   "display_name": "Python 3",
   "language": "python",
   "name": "python3"
  },
  "language_info": {
   "codemirror_mode": {
    "name": "ipython",
    "version": 3
   },
   "file_extension": ".py",
   "mimetype": "text/x-python",
   "name": "python",
   "nbconvert_exporter": "python",
   "pygments_lexer": "ipython3",
   "version": "3.7.3"
  }
 },
 "nbformat": 4,
 "nbformat_minor": 2
}
